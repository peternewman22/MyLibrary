{
 "cells": [
  {
   "cell_type": "markdown",
   "metadata": {},
   "source": [
    "### Imports"
   ]
  },
  {
   "cell_type": "code",
   "execution_count": 1,
   "metadata": {},
   "outputs": [],
   "source": [
    "import pandas as pd\n",
    "from decouple import config\n",
    "import requests\n",
    "import csv"
   ]
  },
  {
   "cell_type": "markdown",
   "metadata": {},
   "source": [
    "### First Steps"
   ]
  },
  {
   "cell_type": "markdown",
   "metadata": {},
   "source": [
    "Start with a small test sample of books, scanned using a barcode scanner"
   ]
  },
  {
   "cell_type": "code",
   "execution_count": 6,
   "metadata": {},
   "outputs": [],
   "source": [
    "searchTerm = \"9319256000988\""
   ]
  },
  {
   "cell_type": "code",
   "execution_count": 3,
   "metadata": {},
   "outputs": [],
   "source": [
    "# pulling in the authentication information from the env variable\n",
    "apiKey = config('KEY')\n",
    "apiUser = config('USER')"
   ]
  },
  {
   "cell_type": "code",
   "execution_count": 7,
   "metadata": {},
   "outputs": [
    {
     "data": {
      "text/plain": [
       "{'kind': 'books#volumes', 'totalItems': 0}"
      ]
     },
     "execution_count": 7,
     "metadata": {},
     "output_type": "execute_result"
    }
   ],
   "source": [
    "# making an initial request\n",
    "payload = {'key' : apiKey}\n",
    "r = requests.get(f'https://www.googleapis.com/books/v1/volumes?q=isbn:{searchTerm}', params = payload)\n",
    "r.json()"
   ]
  },
  {
   "cell_type": "code",
   "execution_count": 5,
   "metadata": {},
   "outputs": [
    {
     "data": {
      "text/plain": [
       "{'kind': 'books#volumes',\n",
       " 'totalItems': 1,\n",
       " 'items': [{'kind': 'books#volume',\n",
       "   'id': 'ektGSwAACAAJ',\n",
       "   'etag': 'vKRBLsE6j/8',\n",
       "   'selfLink': 'https://www.googleapis.com/books/v1/volumes/ektGSwAACAAJ',\n",
       "   'volumeInfo': {'title': 'How Language Works',\n",
       "    'authors': ['David Crystal', 'Steven Pinker'],\n",
       "    'publishedDate': '2008',\n",
       "    'description': \"David Crystal's How Language Works is a fascinating tour through the world of language from one of today's most renowned experts. It ranges over everything from how children learn to read to what makes words rude or polite, from eyebrow flashes to whistling languages. Unlocking the secrets of communication in an accessible, entertaining way, this exhilarating book sheds light on the endless mysteries of the language we speak, write and read every day.\",\n",
       "    'industryIdentifiers': [{'type': 'ISBN_10', 'identifier': '0141037369'},\n",
       "     {'type': 'ISBN_13', 'identifier': '9780141037363'}],\n",
       "    'readingModes': {'text': False, 'image': False},\n",
       "    'pageCount': 500,\n",
       "    'printType': 'BOOK',\n",
       "    'categories': ['Language and languages'],\n",
       "    'averageRating': 3,\n",
       "    'ratingsCount': 7,\n",
       "    'maturityRating': 'NOT_MATURE',\n",
       "    'allowAnonLogging': False,\n",
       "    'contentVersion': 'preview-1.0.0',\n",
       "    'imageLinks': {'smallThumbnail': 'http://books.google.com/books/content?id=ektGSwAACAAJ&printsec=frontcover&img=1&zoom=5&source=gbs_api',\n",
       "     'thumbnail': 'http://books.google.com/books/content?id=ektGSwAACAAJ&printsec=frontcover&img=1&zoom=1&source=gbs_api'},\n",
       "    'language': 'en',\n",
       "    'previewLink': 'http://books.google.com.au/books?id=ektGSwAACAAJ&dq=isbn:9780141037363&hl=&cd=1&source=gbs_api',\n",
       "    'infoLink': 'http://books.google.com.au/books?id=ektGSwAACAAJ&dq=isbn:9780141037363&hl=&source=gbs_api',\n",
       "    'canonicalVolumeLink': 'https://books.google.com/books/about/How_Language_Works.html?hl=&id=ektGSwAACAAJ'},\n",
       "   'saleInfo': {'country': 'AU',\n",
       "    'saleability': 'NOT_FOR_SALE',\n",
       "    'isEbook': False},\n",
       "   'accessInfo': {'country': 'AU',\n",
       "    'viewability': 'NO_PAGES',\n",
       "    'embeddable': False,\n",
       "    'publicDomain': False,\n",
       "    'textToSpeechPermission': 'ALLOWED',\n",
       "    'epub': {'isAvailable': False},\n",
       "    'pdf': {'isAvailable': False},\n",
       "    'webReaderLink': 'http://play.google.com/books/reader?id=ektGSwAACAAJ&hl=&printsec=frontcover&source=gbs_api',\n",
       "    'accessViewStatus': 'NONE',\n",
       "    'quoteSharingAllowed': False},\n",
       "   'searchInfo': {'textSnippet': 'Unlocking the secrets of communication in an accessible, entertaining way, this exhilarating book sheds light on the endless mysteries of the language we speak, write and read every day.'}}]}"
      ]
     },
     "execution_count": 5,
     "metadata": {},
     "output_type": "execute_result"
    }
   ],
   "source": [
    "r.json()"
   ]
  },
  {
   "cell_type": "code",
   "execution_count": 6,
   "metadata": {},
   "outputs": [
    {
     "data": {
      "text/plain": [
       "'How Language Works'"
      ]
     },
     "execution_count": 6,
     "metadata": {},
     "output_type": "execute_result"
    }
   ],
   "source": [
    "r.json()['items'][0]['volumeInfo']['title']"
   ]
  },
  {
   "cell_type": "code",
   "execution_count": 52,
   "metadata": {},
   "outputs": [],
   "source": [
    "def getDeets(isbn):\n",
    "    row = {}\n",
    "    row['ISBN'] = isbn\n",
    "    payload = {'key' : apiKey}\n",
    "    r = requests.get(f'https://www.googleapis.com/books/v1/volumes?q=isbn:{isbn}', params = payload)\n",
    "    info = r.json()['items'][0]['volumeInfo']\n",
    "    try:\n",
    "        row['title'] = info['title']\n",
    "        if 'subtitle' in info:\n",
    "            row['subtitle'] = info['subtitle']\n",
    "        else:\n",
    "            row['subtitle'] = 'NA'\n",
    "        row['authors'] = info['authors']\n",
    "        row['pageCount'] = info['pageCount']\n",
    "        row['categories'] = info['categories']\n",
    "        row['averageRating'] = info['averageRating']\n",
    "        row['ratingsCount'] =  info['ratingsCount']\n",
    "        row['publishedDate'] = info['publishedDate']\n",
    "        row['publisher'] = info['publisher']\n",
    "        row['description'] = info['description']\n",
    "    except Exception as e:\n",
    "        print(f\"Problem with gathering info: \\n{e}\" )\n",
    "        \n",
    "    for k, v in row.items():\n",
    "        print(f\"{k} : {v}\")\n",
    "    print(\"\\n\")\n",
    "    \n",
    "    # now print to csv\n",
    "    try:\n",
    "        with open('output.csv', \"a\", newline='') as csvFile:\n",
    "            writer = csv.writer(csvFile, delimiter=',')\n",
    "            writer.writerow([row['ISBN'], \n",
    "                             row['title'], \n",
    "                             row['subtitle'], \n",
    "                             row['authors'], \n",
    "                             row['pageCount'], \n",
    "                             row['categories'], \n",
    "                             row['averageRating'], \n",
    "                             row['ratingsCount'],\n",
    "                             row['publishedDate'], \n",
    "                             row['publisher'], \n",
    "                             row['description']])\n",
    "    except Exception as e:\n",
    "        print(f\"Problem with writing to file: \\n{e}\" )"
   ]
  },
  {
   "cell_type": "code",
   "execution_count": 53,
   "metadata": {},
   "outputs": [
    {
     "name": "stdout",
     "output_type": "stream",
     "text": [
      "ISBN : 9780151005574\n",
      "title : Looking for Spinoza\n",
      "subtitle : Joy, Sorrow, and the Feeling Brain\n",
      "authors : ['Antonio R. Damasio']\n",
      "pageCount : 355\n",
      "categories : ['Philosophy']\n",
      "averageRating : 3.5\n",
      "ratingsCount : 6\n",
      "publishedDate : 2003\n",
      "publisher : Houghton Mifflin\n",
      "description : Investigates the cerebral mechanisms behind emotions and feelings to explain the role between emotion, survival, and cultural accomplishment.\n",
      "\n",
      "\n",
      "ISBN : 9781473620919\n",
      "title : Thing Explainer\n",
      "subtitle : Complicated Stuff in Simple Words\n",
      "authors : ['Randall Munroe']\n",
      "pageCount : 61\n",
      "categories : ['Humor']\n",
      "averageRating : 3.5\n",
      "ratingsCount : 8\n",
      "publishedDate : 2015-11-19\n",
      "publisher : John Murray\n",
      "description : From the No. 1 bestselling author of What If? - the man who created xkcd and explained the laws of science with cartoons - comes a series of brilliantly simple diagrams ('blueprints' if you want to be complicated about it) that show how important things work: from the nuclear bomb to the biro. It's good to know what the parts of a thing are called, but it's much more interesting to know what they do. Richard Feynman once said that if you can't explain something to a first-year student, you don't really get it. In Thing Explainer, Randall Munroe takes a quantum leap past this: he explains things using only drawings and a vocabulary of just our 1,000 (or the ten hundred) most common words. Many of the things we use every day - like our food-heating radio boxes ('microwaves'), our very tall roads ('bridges'), and our computer rooms ('datacentres') - are strange to us. So are the other worlds around our sun (the solar system), the big flat rocks we live on (tectonic plates), and even the stuff inside us (cells). Where do these things come from? How do they work? What do they look like if you open them up? And what would happen if we heated them up, cooled them down, pointed them in a different direction, or pressed this button? In Thing Explainer, Munroe gives us the answers to these questions and many, many more. Funny, interesting, and always understandable, this book is for anyone -- age 5 to 105 -- who has ever wondered how things work, and why.\n",
      "\n",
      "\n",
      "ISBN : 9781534313408\n",
      "title : The Walking Dead Compendium\n",
      "subtitle : NA\n",
      "authors : ['Robert Kirkman']\n",
      "pageCount : 1088\n",
      "categories : ['Comics & Graphic Novels']\n",
      "averageRating : 3.5\n",
      "ratingsCount : 9\n",
      "publishedDate : 2019-10-08\n",
      "publisher : Image Comics\n",
      "description : Just in time for the new season of The WalkingDead on AMC, the fan-favorite, New York Times bestseller series returns withits FOURTH massive paperback collection! With over 1,000 pages, this volumecontains the next chapter of ROBERT KIRKMAN and CHARLIE ADLARD'sEisner Award-winning continuing story of survival horror. From the Whisperers to the Commonwealth,Rick Grimes meets new allies and enemies to the way to reclaiming the world fromthe dead. Wars are started, and dear friends fall... Collects THE WALKING DEAD#149-192.\n",
      "\n",
      "\n"
     ]
    }
   ],
   "source": [
    "for eachISBN in df['ISBN'].to_list()[1:]:\n",
    "    getDeets(eachISBN)"
   ]
  },
  {
   "cell_type": "code",
   "execution_count": null,
   "metadata": {},
   "outputs": [],
   "source": []
  }
 ],
 "metadata": {
  "kernelspec": {
   "display_name": "Python 3",
   "language": "python",
   "name": "python3"
  },
  "language_info": {
   "codemirror_mode": {
    "name": "ipython",
    "version": 3
   },
   "file_extension": ".py",
   "mimetype": "text/x-python",
   "name": "python",
   "nbconvert_exporter": "python",
   "pygments_lexer": "ipython3",
   "version": "3.7.3"
  }
 },
 "nbformat": 4,
 "nbformat_minor": 4
}
