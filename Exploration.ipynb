{
 "cells": [
  {
   "cell_type": "markdown",
   "metadata": {},
   "source": [
    "### Imports"
   ]
  },
  {
   "cell_type": "code",
   "execution_count": 33,
   "metadata": {},
   "outputs": [],
   "source": [
    "import pandas as pd\n",
    "from decouple import config\n",
    "import requests\n",
    "import csv"
   ]
  },
  {
   "cell_type": "markdown",
   "metadata": {},
   "source": [
    "### First Steps"
   ]
  },
  {
   "cell_type": "markdown",
   "metadata": {},
   "source": [
    "Start with a small test sample of books, scanned using a barcode scanner"
   ]
  },
  {
   "cell_type": "code",
   "execution_count": 2,
   "metadata": {},
   "outputs": [],
   "source": [
    "df = pd.read_clipboard(header = 0)"
   ]
  },
  {
   "cell_type": "code",
   "execution_count": 54,
   "metadata": {},
   "outputs": [],
   "source": [
    "firstSearch = \"0201129108\""
   ]
  },
  {
   "cell_type": "code",
   "execution_count": 7,
   "metadata": {},
   "outputs": [],
   "source": [
    "# pulling in the authentication information from the env variable\n",
    "apiKey = config('KEY')\n",
    "apiUser = config('USER')"
   ]
  },
  {
   "cell_type": "code",
   "execution_count": 55,
   "metadata": {},
   "outputs": [],
   "source": [
    "# making an initial request\n",
    "payload = {'key' : apiKey}\n",
    "r = requests.get(f'https://www.googleapis.com/books/v1/volumes?q=isbn:{firstSearch}', params = payload)"
   ]
  },
  {
   "cell_type": "code",
   "execution_count": 56,
   "metadata": {},
   "outputs": [
    {
     "data": {
      "text/plain": [
       "{'kind': 'books#volumes',\n",
       " 'totalItems': 1,\n",
       " 'items': [{'kind': 'books#volume',\n",
       "   'id': 'DiLvAAAAMAAJ',\n",
       "   'etag': 'XT61pc7PHEI',\n",
       "   'selfLink': 'https://www.googleapis.com/books/v1/volumes/DiLvAAAAMAAJ',\n",
       "   'volumeInfo': {'title': 'A Concrete Approach to Mathematical Modelling',\n",
       "    'authors': ['Mike Mesterton-Gibbons'],\n",
       "    'publisher': 'Addison Wesley Publishing Company',\n",
       "    'publishedDate': '1989',\n",
       "    'description': 'Critical praise for A Concrete Approach to Mathematical Modelling \"...a treasure house of material for students and teachers alike...can be dipped into regularly for inspiration and ideas. It deserves to become a classic.\"-London Times Higher Education Supplement \"The author succeeds in his goal of serving the needs of the undergraduate population who want to see mathematics in action, and the mathematics used is extensive and provoking.\"-SIAM Review \"Each chapter discusses a wealth of examples ranging from old standards...to novelty ... Each model is developed critically, analyzed critically, and assessed critically.\"-Mathematical Reviews Michael Mesterton-Gibbons has done what no author before him could: he has written an in-depth, systematic guide to the art and science of mathematical modelling that\\'s a great read from first page to last. With an abundance of both wit and common sense, he shows readers exactly how the modelling process works, using fascinating real-life examples from virtually every realm of human, machine, natural, and cosmic activity. You\\'ll find models for determining how fast cars drive through a tunnel; how many workers industry should employ; the length of a supermarket checkout line; how birds should select worms; the best methods for avoiding an automobile accident; and when a barber should hire an assistant; just to name a few. Offering more examples, more detailed explanations, and by far, more sheer enjoyment than any other book on the subject, A Concrete Approach to Mathematical Modelling is the ultimate how-to guide for students and professionals in the hard sciences, social sciences, engineering, computers, statistics, economics, politics, business management, and every other discipline in which mathematical modelling plays a role. Cover Design / Illustration: Keithley Associates, Inc.',\n",
       "    'industryIdentifiers': [{'type': 'OTHER',\n",
       "      'identifier': 'UOM:39015015722385'}],\n",
       "    'readingModes': {'text': False, 'image': False},\n",
       "    'pageCount': 597,\n",
       "    'printType': 'BOOK',\n",
       "    'categories': ['Mathematical models'],\n",
       "    'maturityRating': 'NOT_MATURE',\n",
       "    'allowAnonLogging': False,\n",
       "    'contentVersion': '0.2.1.0.preview.0',\n",
       "    'panelizationSummary': {'containsEpubBubbles': False,\n",
       "     'containsImageBubbles': False},\n",
       "    'imageLinks': {'smallThumbnail': 'http://books.google.com/books/content?id=DiLvAAAAMAAJ&printsec=frontcover&img=1&zoom=5&source=gbs_api',\n",
       "     'thumbnail': 'http://books.google.com/books/content?id=DiLvAAAAMAAJ&printsec=frontcover&img=1&zoom=1&source=gbs_api'},\n",
       "    'language': 'en',\n",
       "    'previewLink': 'http://books.google.com.au/books?id=DiLvAAAAMAAJ&dq=isbn:0201129108&hl=&cd=1&source=gbs_api',\n",
       "    'infoLink': 'http://books.google.com.au/books?id=DiLvAAAAMAAJ&dq=isbn:0201129108&hl=&source=gbs_api',\n",
       "    'canonicalVolumeLink': 'https://books.google.com/books/about/A_Concrete_Approach_to_Mathematical_Mode.html?hl=&id=DiLvAAAAMAAJ'},\n",
       "   'saleInfo': {'country': 'AU',\n",
       "    'saleability': 'NOT_FOR_SALE',\n",
       "    'isEbook': False},\n",
       "   'accessInfo': {'country': 'AU',\n",
       "    'viewability': 'NO_PAGES',\n",
       "    'embeddable': False,\n",
       "    'publicDomain': False,\n",
       "    'textToSpeechPermission': 'ALLOWED',\n",
       "    'epub': {'isAvailable': False},\n",
       "    'pdf': {'isAvailable': False},\n",
       "    'webReaderLink': 'http://play.google.com/books/reader?id=DiLvAAAAMAAJ&hl=&printsec=frontcover&source=gbs_api',\n",
       "    'accessViewStatus': 'NONE',\n",
       "    'quoteSharingAllowed': False},\n",
       "   'searchInfo': {'textSnippet': 'With an abundance of both wit and common sense, he shows readers exactly how the modelling process works, using fascinating real-life examples from virtually every realm of human, machine, natural, and cosmic activity.'}}]}"
      ]
     },
     "execution_count": 56,
     "metadata": {},
     "output_type": "execute_result"
    }
   ],
   "source": [
    "r.json()"
   ]
  },
  {
   "cell_type": "code",
   "execution_count": 30,
   "metadata": {},
   "outputs": [
    {
     "data": {
      "text/plain": [
       "'The Greatest Show on Earth'"
      ]
     },
     "execution_count": 30,
     "metadata": {},
     "output_type": "execute_result"
    }
   ],
   "source": [
    "r.json()['items'][0]['volumeInfo']['title']"
   ]
  },
  {
   "cell_type": "code",
   "execution_count": 52,
   "metadata": {},
   "outputs": [],
   "source": [
    "def getDeets(isbn):\n",
    "    row = {}\n",
    "    row['ISBN'] = isbn\n",
    "    payload = {'key' : apiKey}\n",
    "    r = requests.get(f'https://www.googleapis.com/books/v1/volumes?q=isbn:{isbn}', params = payload)\n",
    "    info = r.json()['items'][0]['volumeInfo']\n",
    "    try:\n",
    "        row['title'] = info['title']\n",
    "        if 'subtitle' in info:\n",
    "            row['subtitle'] = info['subtitle']\n",
    "        else:\n",
    "            row['subtitle'] = 'NA'\n",
    "        row['authors'] = info['authors']\n",
    "        row['pageCount'] = info['pageCount']\n",
    "        row['categories'] = info['categories']\n",
    "        row['averageRating'] = info['averageRating']\n",
    "        row['ratingsCount'] =  info['ratingsCount']\n",
    "        row['publishedDate'] = info['publishedDate']\n",
    "        row['publisher'] = info['publisher']\n",
    "        row['description'] = info['description']\n",
    "    except Exception as e:\n",
    "        print(f\"Problem with gathering info: \\n{e}\" )\n",
    "        \n",
    "    for k, v in row.items():\n",
    "        print(f\"{k} : {v}\")\n",
    "    print(\"\\n\")\n",
    "    \n",
    "    # now print to csv\n",
    "    try:\n",
    "        with open('output.csv', \"a\", newline='') as csvFile:\n",
    "            writer = csv.writer(csvFile, delimiter=',')\n",
    "            writer.writerow([row['ISBN'], \n",
    "                             row['title'], \n",
    "                             row['subtitle'], \n",
    "                             row['authors'], \n",
    "                             row['pageCount'], \n",
    "                             row['categories'], \n",
    "                             row['averageRating'], \n",
    "                             row['ratingsCount'],\n",
    "                             row['publishedDate'], \n",
    "                             row['publisher'], \n",
    "                             row['description']])\n",
    "    except Exception as e:\n",
    "        print(f\"Problem with writing to file: \\n{e}\" )"
   ]
  },
  {
   "cell_type": "code",
   "execution_count": 53,
   "metadata": {},
   "outputs": [
    {
     "name": "stdout",
     "output_type": "stream",
     "text": [
      "ISBN : 9780151005574\n",
      "title : Looking for Spinoza\n",
      "subtitle : Joy, Sorrow, and the Feeling Brain\n",
      "authors : ['Antonio R. Damasio']\n",
      "pageCount : 355\n",
      "categories : ['Philosophy']\n",
      "averageRating : 3.5\n",
      "ratingsCount : 6\n",
      "publishedDate : 2003\n",
      "publisher : Houghton Mifflin\n",
      "description : Investigates the cerebral mechanisms behind emotions and feelings to explain the role between emotion, survival, and cultural accomplishment.\n",
      "\n",
      "\n",
      "ISBN : 9781473620919\n",
      "title : Thing Explainer\n",
      "subtitle : Complicated Stuff in Simple Words\n",
      "authors : ['Randall Munroe']\n",
      "pageCount : 61\n",
      "categories : ['Humor']\n",
      "averageRating : 3.5\n",
      "ratingsCount : 8\n",
      "publishedDate : 2015-11-19\n",
      "publisher : John Murray\n",
      "description : From the No. 1 bestselling author of What If? - the man who created xkcd and explained the laws of science with cartoons - comes a series of brilliantly simple diagrams ('blueprints' if you want to be complicated about it) that show how important things work: from the nuclear bomb to the biro. It's good to know what the parts of a thing are called, but it's much more interesting to know what they do. Richard Feynman once said that if you can't explain something to a first-year student, you don't really get it. In Thing Explainer, Randall Munroe takes a quantum leap past this: he explains things using only drawings and a vocabulary of just our 1,000 (or the ten hundred) most common words. Many of the things we use every day - like our food-heating radio boxes ('microwaves'), our very tall roads ('bridges'), and our computer rooms ('datacentres') - are strange to us. So are the other worlds around our sun (the solar system), the big flat rocks we live on (tectonic plates), and even the stuff inside us (cells). Where do these things come from? How do they work? What do they look like if you open them up? And what would happen if we heated them up, cooled them down, pointed them in a different direction, or pressed this button? In Thing Explainer, Munroe gives us the answers to these questions and many, many more. Funny, interesting, and always understandable, this book is for anyone -- age 5 to 105 -- who has ever wondered how things work, and why.\n",
      "\n",
      "\n",
      "ISBN : 9781534313408\n",
      "title : The Walking Dead Compendium\n",
      "subtitle : NA\n",
      "authors : ['Robert Kirkman']\n",
      "pageCount : 1088\n",
      "categories : ['Comics & Graphic Novels']\n",
      "averageRating : 3.5\n",
      "ratingsCount : 9\n",
      "publishedDate : 2019-10-08\n",
      "publisher : Image Comics\n",
      "description : Just in time for the new season of The WalkingDead on AMC, the fan-favorite, New York Times bestseller series returns withits FOURTH massive paperback collection! With over 1,000 pages, this volumecontains the next chapter of ROBERT KIRKMAN and CHARLIE ADLARD'sEisner Award-winning continuing story of survival horror. From the Whisperers to the Commonwealth,Rick Grimes meets new allies and enemies to the way to reclaiming the world fromthe dead. Wars are started, and dear friends fall... Collects THE WALKING DEAD#149-192.\n",
      "\n",
      "\n"
     ]
    }
   ],
   "source": [
    "for eachISBN in df['ISBN'].to_list()[1:]:\n",
    "    getDeets(eachISBN)"
   ]
  },
  {
   "cell_type": "code",
   "execution_count": null,
   "metadata": {},
   "outputs": [],
   "source": []
  }
 ],
 "metadata": {
  "kernelspec": {
   "display_name": "Python 3",
   "language": "python",
   "name": "python3"
  },
  "language_info": {
   "codemirror_mode": {
    "name": "ipython",
    "version": 3
   },
   "file_extension": ".py",
   "mimetype": "text/x-python",
   "name": "python",
   "nbconvert_exporter": "python",
   "pygments_lexer": "ipython3",
   "version": "3.7.3"
  }
 },
 "nbformat": 4,
 "nbformat_minor": 4
}
